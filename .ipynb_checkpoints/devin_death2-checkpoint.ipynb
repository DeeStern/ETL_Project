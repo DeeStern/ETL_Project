{
 "cells": [
  {
   "cell_type": "code",
   "execution_count": 9,
   "metadata": {},
   "outputs": [],
   "source": [
    "import pandas as pd\n",
    "from sqlalchemy import create_engine"
   ]
  },
  {
   "cell_type": "code",
   "execution_count": 124,
   "metadata": {},
   "outputs": [
    {
     "data": {
      "text/html": [
       "<div>\n",
       "<style scoped>\n",
       "    .dataframe tbody tr th:only-of-type {\n",
       "        vertical-align: middle;\n",
       "    }\n",
       "\n",
       "    .dataframe tbody tr th {\n",
       "        vertical-align: top;\n",
       "    }\n",
       "\n",
       "    .dataframe thead th {\n",
       "        text-align: right;\n",
       "    }\n",
       "</style>\n",
       "<table border=\"1\" class=\"dataframe\">\n",
       "  <thead>\n",
       "    <tr style=\"text-align: right;\">\n",
       "      <th></th>\n",
       "      <th>Year</th>\n",
       "      <th>113 Cause Name</th>\n",
       "      <th>Cause Name</th>\n",
       "      <th>State</th>\n",
       "      <th>Deaths</th>\n",
       "      <th>Age-adjusted Death Rate</th>\n",
       "    </tr>\n",
       "  </thead>\n",
       "  <tbody>\n",
       "    <tr>\n",
       "      <th>0</th>\n",
       "      <td>2012</td>\n",
       "      <td>Nephritis, nephrotic syndrome and nephrosis (N...</td>\n",
       "      <td>Kidney disease</td>\n",
       "      <td>Vermont</td>\n",
       "      <td>21</td>\n",
       "      <td>2.6</td>\n",
       "    </tr>\n",
       "    <tr>\n",
       "      <th>1</th>\n",
       "      <td>2016</td>\n",
       "      <td>Nephritis, nephrotic syndrome and nephrosis (N...</td>\n",
       "      <td>Kidney disease</td>\n",
       "      <td>Vermont</td>\n",
       "      <td>30</td>\n",
       "      <td>3.7</td>\n",
       "    </tr>\n",
       "    <tr>\n",
       "      <th>2</th>\n",
       "      <td>2013</td>\n",
       "      <td>Nephritis, nephrotic syndrome and nephrosis (N...</td>\n",
       "      <td>Kidney disease</td>\n",
       "      <td>Vermont</td>\n",
       "      <td>30</td>\n",
       "      <td>3.8</td>\n",
       "    </tr>\n",
       "    <tr>\n",
       "      <th>3</th>\n",
       "      <td>2000</td>\n",
       "      <td>Intentional self-harm (suicide) (*U03,X60-X84,...</td>\n",
       "      <td>Suicide</td>\n",
       "      <td>District of Columbia</td>\n",
       "      <td>23</td>\n",
       "      <td>3.8</td>\n",
       "    </tr>\n",
       "    <tr>\n",
       "      <th>4</th>\n",
       "      <td>2014</td>\n",
       "      <td>Nephritis, nephrotic syndrome and nephrosis (N...</td>\n",
       "      <td>Kidney disease</td>\n",
       "      <td>Arizona</td>\n",
       "      <td>325</td>\n",
       "      <td>4.1</td>\n",
       "    </tr>\n",
       "  </tbody>\n",
       "</table>\n",
       "</div>"
      ],
      "text/plain": [
       "   Year                                     113 Cause Name      Cause Name  \\\n",
       "0  2012  Nephritis, nephrotic syndrome and nephrosis (N...  Kidney disease   \n",
       "1  2016  Nephritis, nephrotic syndrome and nephrosis (N...  Kidney disease   \n",
       "2  2013  Nephritis, nephrotic syndrome and nephrosis (N...  Kidney disease   \n",
       "3  2000  Intentional self-harm (suicide) (*U03,X60-X84,...         Suicide   \n",
       "4  2014  Nephritis, nephrotic syndrome and nephrosis (N...  Kidney disease   \n",
       "\n",
       "                  State  Deaths  Age-adjusted Death Rate  \n",
       "0               Vermont      21                      2.6  \n",
       "1               Vermont      30                      3.7  \n",
       "2               Vermont      30                      3.8  \n",
       "3  District of Columbia      23                      3.8  \n",
       "4               Arizona     325                      4.1  "
      ]
     },
     "execution_count": 124,
     "metadata": {},
     "output_type": "execute_result"
    }
   ],
   "source": [
    "#Extract CSV into DataFrame\n",
    "death_file = \"death_causes.csv\"\n",
    "death_df = pd.read_csv(death_file)\n",
    "death_df.head()\n"
   ]
  },
  {
   "cell_type": "code",
   "execution_count": 125,
   "metadata": {},
   "outputs": [],
   "source": [
    "#Keep only causes of death from 2012\n",
    "death_2012_df = death_df.loc[death_df[\"Year\"] == 2012]\n"
   ]
  },
  {
   "cell_type": "code",
   "execution_count": 133,
   "metadata": {},
   "outputs": [
    {
     "data": {
      "text/html": [
       "<div>\n",
       "<style scoped>\n",
       "    .dataframe tbody tr th:only-of-type {\n",
       "        vertical-align: middle;\n",
       "    }\n",
       "\n",
       "    .dataframe tbody tr th {\n",
       "        vertical-align: top;\n",
       "    }\n",
       "\n",
       "    .dataframe thead th {\n",
       "        text-align: right;\n",
       "    }\n",
       "</style>\n",
       "<table border=\"1\" class=\"dataframe\">\n",
       "  <thead>\n",
       "    <tr style=\"text-align: right;\">\n",
       "      <th></th>\n",
       "      <th>Year</th>\n",
       "      <th>Cause Name</th>\n",
       "      <th>State</th>\n",
       "      <th>Deaths</th>\n",
       "    </tr>\n",
       "  </thead>\n",
       "  <tbody>\n",
       "    <tr>\n",
       "      <th>0</th>\n",
       "      <td>2012</td>\n",
       "      <td>Kidney disease</td>\n",
       "      <td>Vermont</td>\n",
       "      <td>21</td>\n",
       "    </tr>\n",
       "    <tr>\n",
       "      <th>1</th>\n",
       "      <td>2012</td>\n",
       "      <td>Kidney disease</td>\n",
       "      <td>South Dakota</td>\n",
       "      <td>58</td>\n",
       "    </tr>\n",
       "    <tr>\n",
       "      <th>2</th>\n",
       "      <td>2012</td>\n",
       "      <td>Kidney disease</td>\n",
       "      <td>Arizona</td>\n",
       "      <td>414</td>\n",
       "    </tr>\n",
       "    <tr>\n",
       "      <th>3</th>\n",
       "      <td>2012</td>\n",
       "      <td>Suicide</td>\n",
       "      <td>District of Columbia</td>\n",
       "      <td>37</td>\n",
       "    </tr>\n",
       "    <tr>\n",
       "      <th>4</th>\n",
       "      <td>2012</td>\n",
       "      <td>Kidney disease</td>\n",
       "      <td>Washington</td>\n",
       "      <td>482</td>\n",
       "    </tr>\n",
       "  </tbody>\n",
       "</table>\n",
       "</div>"
      ],
      "text/plain": [
       "   Year      Cause Name                 State  Deaths\n",
       "0  2012  Kidney disease               Vermont      21\n",
       "1  2012  Kidney disease          South Dakota      58\n",
       "2  2012  Kidney disease               Arizona     414\n",
       "3  2012         Suicide  District of Columbia      37\n",
       "4  2012  Kidney disease            Washington     482"
      ]
     },
     "execution_count": 133,
     "metadata": {},
     "output_type": "execute_result"
    }
   ],
   "source": [
    "#Take only the year, cause name, state, deaths columns\n",
    "death_2012_df = death_2012_df[[\"Year\", \"Cause Name\", \"State\", \"Deaths\"]]\n",
    "death_2012_df.head()"
   ]
  },
  {
   "cell_type": "code",
   "execution_count": 130,
   "metadata": {},
   "outputs": [],
   "source": [
    "#Drop the \"All Causes\" cause, and make sure it was dropped\n",
    "death_2012_df = death_2012_df[death_2012_df['Cause Name']!=\"All causes\"]\n",
    "death_2012_df = death_2012_df"
   ]
  },
  {
   "cell_type": "code",
   "execution_count": 153,
   "metadata": {},
   "outputs": [
    {
     "data": {
      "text/html": [
       "<div>\n",
       "<style scoped>\n",
       "    .dataframe tbody tr th:only-of-type {\n",
       "        vertical-align: middle;\n",
       "    }\n",
       "\n",
       "    .dataframe tbody tr th {\n",
       "        vertical-align: top;\n",
       "    }\n",
       "\n",
       "    .dataframe thead th {\n",
       "        text-align: right;\n",
       "    }\n",
       "</style>\n",
       "<table border=\"1\" class=\"dataframe\">\n",
       "  <thead>\n",
       "    <tr style=\"text-align: right;\">\n",
       "      <th></th>\n",
       "      <th>_Year</th>\n",
       "      <th>Cause_Name</th>\n",
       "      <th>State</th>\n",
       "      <th>Deaths</th>\n",
       "    </tr>\n",
       "  </thead>\n",
       "  <tbody>\n",
       "    <tr>\n",
       "      <th>0</th>\n",
       "      <td>2012</td>\n",
       "      <td>Kidney disease</td>\n",
       "      <td>Vermont</td>\n",
       "      <td>21</td>\n",
       "    </tr>\n",
       "    <tr>\n",
       "      <th>1</th>\n",
       "      <td>2012</td>\n",
       "      <td>Kidney disease</td>\n",
       "      <td>South Dakota</td>\n",
       "      <td>58</td>\n",
       "    </tr>\n",
       "    <tr>\n",
       "      <th>2</th>\n",
       "      <td>2012</td>\n",
       "      <td>Kidney disease</td>\n",
       "      <td>Arizona</td>\n",
       "      <td>414</td>\n",
       "    </tr>\n",
       "    <tr>\n",
       "      <th>3</th>\n",
       "      <td>2012</td>\n",
       "      <td>Suicide</td>\n",
       "      <td>District of Columbia</td>\n",
       "      <td>37</td>\n",
       "    </tr>\n",
       "    <tr>\n",
       "      <th>4</th>\n",
       "      <td>2012</td>\n",
       "      <td>Kidney disease</td>\n",
       "      <td>Washington</td>\n",
       "      <td>482</td>\n",
       "    </tr>\n",
       "  </tbody>\n",
       "</table>\n",
       "</div>"
      ],
      "text/plain": [
       "   _Year      Cause_Name                 State  Deaths\n",
       "0   2012  Kidney disease               Vermont      21\n",
       "1   2012  Kidney disease          South Dakota      58\n",
       "2   2012  Kidney disease               Arizona     414\n",
       "3   2012         Suicide  District of Columbia      37\n",
       "4   2012  Kidney disease            Washington     482"
      ]
     },
     "execution_count": 153,
     "metadata": {},
     "output_type": "execute_result"
    }
   ],
   "source": [
    "#Rename columns to play nice with SQL\n",
    "death_2012_df.columns=[\"_Year\", \"Cause_Name\", \"State\", \"Deaths\"]\n",
    "death_2012_df.head()"
   ]
  },
  {
   "cell_type": "code",
   "execution_count": 150,
   "metadata": {},
   "outputs": [],
   "source": [
    "#Connect to database\n",
    "connection_string = \"root:PASSWORDREDACTED@127.0.0.1/Death_Candy\"\n",
    "engine = create_engine(f'mysql+pymysql://{connection_string}')"
   ]
  },
  {
   "cell_type": "code",
   "execution_count": 151,
   "metadata": {},
   "outputs": [
    {
     "data": {
      "text/plain": [
       "['death_candy', 'death_state']"
      ]
     },
     "execution_count": 151,
     "metadata": {},
     "output_type": "execute_result"
    }
   ],
   "source": [
    "# Confirm tables\n",
    "engine.table_names()"
   ]
  },
  {
   "cell_type": "code",
   "execution_count": 155,
   "metadata": {},
   "outputs": [],
   "source": [
    "death_2012_df.to_sql(name='death_state', con=engine, if_exists='append', index=False)"
   ]
  },
  {
   "cell_type": "code",
   "execution_count": null,
   "metadata": {},
   "outputs": [],
   "source": []
  }
 ],
 "metadata": {
  "kernelspec": {
   "display_name": "Python 3",
   "language": "python",
   "name": "python3"
  },
  "language_info": {
   "codemirror_mode": {
    "name": "ipython",
    "version": 3
   },
   "file_extension": ".py",
   "mimetype": "text/x-python",
   "name": "python",
   "nbconvert_exporter": "python",
   "pygments_lexer": "ipython3",
   "version": "3.7.1"
  }
 },
 "nbformat": 4,
 "nbformat_minor": 2
}
